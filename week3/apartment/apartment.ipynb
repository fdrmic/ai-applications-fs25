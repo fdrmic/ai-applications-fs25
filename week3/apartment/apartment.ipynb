{
 "cells": [
  {
   "cell_type": "code",
   "execution_count": 46,
   "metadata": {},
   "outputs": [],
   "source": [
    "\n",
    "import gradio as gr\n",
    "import pandas as pd\n",
    "import numpy as np\n",
    "import pickle\n",
    "from sklearn.ensemble import RandomForestRegressor\n",
    "from sklearn.model_selection import train_test_split"
   ]
  },
  {
   "cell_type": "markdown",
   "metadata": {},
   "source": [
    "## Daten Laden und Add new feature \"Wohlstandsfaktor\""
   ]
  },
  {
   "cell_type": "code",
   "execution_count": null,
   "metadata": {},
   "outputs": [
    {
     "name": "stdout",
     "output_type": "stream",
     "text": [
      "✅ Sicherstellung aller Features abgeschlossen.\n"
     ]
    }
   ],
   "source": [
    "# CSV-Daten laden\n",
    "df_bfs_data = pd.read_csv('bfs_municipality_and_tax_data.csv', sep=',', encoding='utf-8')\n",
    "df_bfs_data['tax_income'] = df_bfs_data['tax_income'].str.replace(\"'\", \"\").astype(float)\n",
    "\n",
    "# Berechnung zusätzlicher Features\n",
    "df_bfs_data[\"emp_per_capita\"] = df_bfs_data[\"emp\"] / df_bfs_data[\"pop\"]\n",
    "df_bfs_data[\"wealth_factor\"] = df_bfs_data[\"tax_income\"] * df_bfs_data[\"emp_per_capita\"]\n",
    "\n",
    "print(\"Sicherstellung aller Features abgeschlossen.\")\n",
    "\n",
    "# Rooms und Area werden NICHT für das Training verwendet!**\n",
    "features = ['pop', 'pop_dens', 'frg_pct', 'emp', 'tax_income', 'emp_per_capita', 'wealth_factor']\n",
    "target = \"price\"\n",
    "\n",
    "# Falls keine Preis-Spalte existiert, Dummy-Werte hinzufügen\n",
    "if target not in df_bfs_data.columns:\n",
    "    df_bfs_data[target] = np.random.randint(1500, 5000, size=len(df_bfs_data))"
   ]
  },
  {
   "cell_type": "markdown",
   "metadata": {},
   "source": [
    "## Neues Modell trainieren"
   ]
  },
  {
   "cell_type": "code",
   "execution_count": null,
   "metadata": {},
   "outputs": [
    {
     "name": "stdout",
     "output_type": "stream",
     "text": [
      "✅ Neues Modell mit `wealth_factor` trainiert und gespeichert!\n",
      "✅ Modell erfolgreich geladen!\n",
      "Anzahl der Features im Modell: 7\n"
     ]
    }
   ],
   "source": [
    "# Trainings- und Testdaten aufteilen\n",
    "df_train = df_bfs_data.sample(frac=0.8, random_state=42)\n",
    "df_test = df_bfs_data.drop(df_train.index)\n",
    "\n",
    "X_train = df_train[features]\n",
    "y_train = df_train[target]\n",
    "X_test = df_test[features]\n",
    "y_test = df_test[target]\n",
    "\n",
    "# Trainiere das Random-Forest-Modell\n",
    "random_forest_model = RandomForestRegressor(n_estimators=100, random_state=42)\n",
    "random_forest_model.fit(X_train, y_train)\n",
    "\n",
    "# Speichere das neue Modell\n",
    "model_filename = \"random_forest_regression.pkl\"\n",
    "with open(model_filename, \"wb\") as f:\n",
    "    pickle.dump(random_forest_model, f)\n",
    "\n",
    "print(\"Neues Modell mit `wealth_factor` trainiert und gespeichert!\")\n",
    "\n",
    "# Laden des trainierten Modells\n",
    "try:\n",
    "    with open(model_filename, \"rb\") as f:\n",
    "        random_forest_model = pickle.load(f)\n",
    "    print(\"Modell erfolgreich geladen!\")\n",
    "    print(\"Anzahl der Features im Modell:\", random_forest_model.n_features_in_)\n",
    "except Exception as e:\n",
    "    print(\"Fehler beim Laden des Modells:\", e)"
   ]
  },
  {
   "cell_type": "code",
   "execution_count": 49,
   "metadata": {},
   "outputs": [],
   "source": [
    "locations = {\n",
    "    \"Zürich\": 261,\n",
    "    \"Kloten\": 62,\n",
    "    \"Uster\": 198,\n",
    "    \"Illnau-Effretikon\": 296,\n",
    "    \"Feuerthalen\": 27,\n",
    "    \"Pfäffikon\": 177,\n",
    "    \"Ottenbach\": 11,\n",
    "    \"Dübendorf\": 191,\n",
    "    \"Richterswil\": 138,\n",
    "    \"Maur\": 195,\n",
    "    \"Embrach\": 56,\n",
    "    \"Bülach\": 53,\n",
    "    \"Winterthur\": 230,\n",
    "    \"Oetwil am See\": 157,\n",
    "    \"Russikon\": 178,\n",
    "    \"Obfelden\": 10,\n",
    "    \"Wald (ZH)\": 120,\n",
    "    \"Niederweningen\": 91,\n",
    "    \"Dällikon\": 84,\n",
    "    \"Buchs (ZH)\": 83,\n",
    "    \"Rüti (ZH)\": 118,\n",
    "    \"Hittnau\": 173,\n",
    "    \"Bassersdorf\": 52,\n",
    "    \"Glattfelden\": 58,\n",
    "    \"Opfikon\": 66,\n",
    "    \"Hinwil\": 117,\n",
    "    \"Regensberg\": 95,\n",
    "    \"Langnau am Albis\": 136,\n",
    "    \"Dietikon\": 243,\n",
    "    \"Erlenbach (ZH)\": 151,\n",
    "    \"Kappel am Albis\": 6,\n",
    "    \"Stäfa\": 158,\n",
    "    \"Zell (ZH)\": 231,\n",
    "    \"Turbenthal\": 228,\n",
    "    \"Oberglatt\": 92,\n",
    "    \"Winkel\": 72,\n",
    "    \"Volketswil\": 199,\n",
    "    \"Kilchberg (ZH)\": 135,\n",
    "    \"Wetzikon (ZH)\": 121,\n",
    "    \"Zumikon\": 160,\n",
    "    \"Weisslingen\": 180,\n",
    "    \"Elsau\": 219,\n",
    "    \"Hettlingen\": 221,\n",
    "    \"Rüschlikon\": 139,\n",
    "    \"Stallikon\": 13,\n",
    "    \"Dielsdorf\": 86,\n",
    "    \"Wallisellen\": 69,\n",
    "    \"Dietlikon\": 54,\n",
    "    \"Meilen\": 156,\n",
    "    \"Wangen-Brüttisellen\": 200,\n",
    "    \"Flaach\": 28,\n",
    "    \"Regensdorf\": 96,\n",
    "    \"Niederhasli\": 90,\n",
    "    \"Bauma\": 297,\n",
    "    \"Aesch (ZH)\": 241,\n",
    "    \"Schlieren\": 247,\n",
    "    \"Dürnten\": 113,\n",
    "    \"Unterengstringen\": 249,\n",
    "    \"Gossau (ZH)\": 115,\n",
    "    \"Oberengstringen\": 245,\n",
    "    \"Schleinikon\": 98,\n",
    "    \"Aeugst am Albis\": 1,\n",
    "    \"Rheinau\": 38,\n",
    "    \"Höri\": 60,\n",
    "    \"Rickenbach (ZH)\": 225,\n",
    "    \"Rafz\": 67,\n",
    "    \"Adliswil\": 131,\n",
    "    \"Zollikon\": 161,\n",
    "    \"Urdorf\": 250,\n",
    "    \"Hombrechtikon\": 153,\n",
    "    \"Birmensdorf (ZH)\": 242,\n",
    "    \"Fehraltorf\": 172,\n",
    "    \"Weiach\": 102,\n",
    "    \"Männedorf\": 155,\n",
    "    \"Küsnacht (ZH)\": 154,\n",
    "    \"Hausen am Albis\": 4,\n",
    "    \"Hochfelden\": 59,\n",
    "    \"Fällanden\": 193,\n",
    "    \"Greifensee\": 194,\n",
    "    \"Mönchaltorf\": 196,\n",
    "    \"Dägerlen\": 214,\n",
    "    \"Thalheim an der Thur\": 39,\n",
    "    \"Uetikon am See\": 159,\n",
    "    \"Seuzach\": 227,\n",
    "    \"Uitikon\": 248,\n",
    "    \"Affoltern am Albis\": 2,\n",
    "    \"Geroldswil\": 244,\n",
    "    \"Niederglatt\": 89,\n",
    "    \"Thalwil\": 141,\n",
    "    \"Rorbas\": 68,\n",
    "    \"Pfungen\": 224,\n",
    "    \"Weiningen (ZH)\": 251,\n",
    "    \"Bubikon\": 112,\n",
    "    \"Neftenbach\": 223,\n",
    "    \"Mettmenstetten\": 9,\n",
    "    \"Otelfingen\": 94,\n",
    "    \"Flurlingen\": 29,\n",
    "    \"Stadel\": 100,\n",
    "    \"Grüningen\": 116,\n",
    "    \"Henggart\": 31,\n",
    "    \"Dachsen\": 25,\n",
    "    \"Bonstetten\": 3,\n",
    "    \"Bachenbülach\": 51,\n",
    "    \"Horgen\": 295\n",
    "}"
   ]
  },
  {
   "cell_type": "code",
   "execution_count": 50,
   "metadata": {},
   "outputs": [
    {
     "name": "stdout",
     "output_type": "stream",
     "text": [
      "Beispiel-Vorhersage: 3258.0 CHF\n"
     ]
    }
   ],
   "source": [
    "# Define the core prediction function\n",
    "def predict_apartment(rooms, area, town):\n",
    "    if town not in locations:\n",
    "        return \"Stadt nicht gefunden!\"\n",
    "    \n",
    "    bfs_number = locations[town]\n",
    "    df = df_bfs_data[df_bfs_data['bfs_number'] == bfs_number].copy()\n",
    "    df.reset_index(inplace=True)\n",
    "\n",
    "    df.loc[0, 'rooms'] = rooms\n",
    "    df.loc[0, 'area'] = area\n",
    "\n",
    "    if len(df) != 1:  # Falls mehrere oder keine Übereinstimmungen\n",
    "        return \"Keine eindeutigen Daten für diese Stadt!\"\n",
    "\n",
    "    # Vorhersage mit allen Features\n",
    "    prediction = random_forest_model.predict(df[features])\n",
    "    return np.round(prediction[0], 0)\n",
    "\n",
    "# Teste die Funktion\n",
    "print(f\"Beispiel-Vorhersage: {predict_apartment(3, 100, 'Zürich')} CHF\")"
   ]
  },
  {
   "cell_type": "code",
   "execution_count": 51,
   "metadata": {},
   "outputs": [
    {
     "name": "stdout",
     "output_type": "stream",
     "text": [
      "* Running on local URL:  http://127.0.0.1:7862\n",
      "\n",
      "To create a public link, set `share=True` in `launch()`.\n"
     ]
    },
    {
     "data": {
      "text/html": [
       "<div><iframe src=\"http://127.0.0.1:7862/\" width=\"100%\" height=\"500\" allow=\"autoplay; camera; microphone; clipboard-read; clipboard-write;\" frameborder=\"0\" allowfullscreen></iframe></div>"
      ],
      "text/plain": [
       "<IPython.core.display.HTML object>"
      ]
     },
     "metadata": {},
     "output_type": "display_data"
    },
    {
     "data": {
      "text/plain": []
     },
     "execution_count": 51,
     "metadata": {},
     "output_type": "execute_result"
    }
   ],
   "source": [
    "# Create the Gradio interface\n",
    "iface = gr.Interface(\n",
    "    fn=predict_apartment,\n",
    "    inputs=[\"number\", \"number\", gr.Dropdown(choices=locations.keys(), label=\"Stadt\")],\n",
    "    outputs=gr.Number(),\n",
    "    title=\"Wohnungsmietpreis-Vorhersage\",\n",
    "    description=\"Gibt eine Mietpreis-Vorhersage für eine Wohnung basierend auf Stadt, Wohnfläche und Zimmeranzahl aus.\",\n",
    "    examples=[[4.5, 120, \"Dietlikon\"], [3.5, 60, \"Winterthur\"]]\n",
    ")\n",
    "\n",
    "iface.launch()"
   ]
  }
 ],
 "metadata": {
  "kernelspec": {
   "display_name": "Python 3",
   "language": "python",
   "name": "python3"
  },
  "language_info": {
   "codemirror_mode": {
    "name": "ipython",
    "version": 3
   },
   "file_extension": ".py",
   "mimetype": "text/x-python",
   "name": "python",
   "nbconvert_exporter": "python",
   "pygments_lexer": "ipython3",
   "version": "3.13.2"
  }
 },
 "nbformat": 4,
 "nbformat_minor": 2
}
